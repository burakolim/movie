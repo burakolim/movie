{
 "cells": [
  {
   "cell_type": "code",
   "execution_count": 5,
   "id": "914dc4f6-a4e1-4855-a161-c897bbbbe8d6",
   "metadata": {},
   "outputs": [
    {
     "name": "stdout",
     "output_type": "stream",
     "text": [
      "Film bilgileri başarıyla alındı ve CSV dosyasına kaydedildi.\n"
     ]
    }
   ],
   "source": [
    "import pandas as pd\n",
    "import requests\n",
    "\n",
    "# TMDb API anahtarını buraya ekle\n",
    "api_key = \"5f4f81df55e12ee3608657b24519bb4b\"\n",
    "\n",
    "# CSV dosyasını oku\n",
    "df = pd.read_csv(\"links.csv\")\n",
    "\n",
    "# Boş listeler oluştur\n",
    "posters = []\n",
    "descriptions = []\n",
    "\n",
    "# TMDb API'yi kullanarak film bilgilerini çek\n",
    "for index, row in df.iterrows():\n",
    "    tmdb_id = row['tmdbId']  # Sadece TMDb ID'yi kullanıyoruz\n",
    "    url = f\"https://api.themoviedb.org/3/movie/{tmdb_id}?api_key={api_key}&language=en-US\"\n",
    "    \n",
    "    response = requests.get(url)\n",
    "    if response.status_code == 200:\n",
    "        data = response.json()\n",
    "        poster_url = f\"https://image.tmdb.org/t/p/w500{data['poster_path']}\"  # Poster URL'si\n",
    "        description = data['overview']  # Açıklama\n",
    "        \n",
    "        posters.append(poster_url)\n",
    "        descriptions.append(description)\n",
    "    else:\n",
    "        posters.append(None)\n",
    "        descriptions.append(None)\n",
    "\n",
    "# Yeni sütunlar ekle\n",
    "df['poster_url'] = posters\n",
    "df['description'] = descriptions\n",
    "\n",
    "# Sonucu bir CSV dosyasına kaydet\n",
    "df.to_csv(\"films_with_posters_and_descriptions.csv\", index=False)\n",
    "\n",
    "print(\"Film bilgileri başarıyla alındı ve CSV dosyasına kaydedildi.\")\n"
   ]
  },
  {
   "cell_type": "code",
   "execution_count": null,
   "id": "0d5b169c-a0ab-4323-a7ca-1d31dea1d2e0",
   "metadata": {},
   "outputs": [],
   "source": []
  }
 ],
 "metadata": {
  "kernelspec": {
   "display_name": "Python 3 (ipykernel)",
   "language": "python",
   "name": "python3"
  },
  "language_info": {
   "codemirror_mode": {
    "name": "ipython",
    "version": 3
   },
   "file_extension": ".py",
   "mimetype": "text/x-python",
   "name": "python",
   "nbconvert_exporter": "python",
   "pygments_lexer": "ipython3",
   "version": "3.12.4"
  }
 },
 "nbformat": 4,
 "nbformat_minor": 5
}
